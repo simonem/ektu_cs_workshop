{
 "cells": [
  {
   "cell_type": "markdown",
   "id": "59b6b245",
   "metadata": {},
   "source": [
    "# Welcome to the Jupyter Notebook! Jupyter Notebook = interactive, online coding environment. You will use this notebook to learn more about air quality data and how to analyse it.\n",
    "\n",
    "Anything with a # in front of it is a comment! Look out for comments in each block of code to explain what's going on."
   ]
  },
  {
   "cell_type": "markdown",
   "id": "d811f5b7",
   "metadata": {},
   "source": [
    "# # Part 1"
   ]
  },
  {
   "cell_type": "code",
   "execution_count": 1,
   "id": "14da8cf8",
   "metadata": {},
   "outputs": [],
   "source": [
    "#This block contains the libraries - external pieces of python code we use to support the operations in this notebook.\n",
    "\n",
    "#%%capture\n",
    "# ^ if you would like to suppress the output from this block, uncomment the \"%%capture\" line. Try it out! \n",
    "import csv\n",
    "import pytz\n",
    "import time\n",
    "import pandas as pd\n",
    "from datetime import datetime\n",
    "import os\n",
    "from matplotlib import pyplot as plt\n",
    "import folium\n",
    "from folium import plugins"
   ]
  },
  {
   "cell_type": "code",
   "execution_count": 3,
   "id": "ba6d8af7",
   "metadata": {},
   "outputs": [
    {
     "name": "stdout",
     "output_type": "stream",
     "text": [
      "aq read\n"
     ]
    }
   ],
   "source": [
    "#below, we read in the data.\n",
    "#we will start with static data collected from a test sensor we sent to EKTU, which was deployed on campus.\n",
    "\n",
    "aq = \"ektu_static_data.csv\" \n",
    "\n",
    "data = pd.read_csv(aq, engine='python') #contents of EKTU STATIC DATA\n",
    "\n",
    "#then we set the timezone so the code knows what it is, and print ourselves a message to verify we read it in correctly\n",
    "tiz = pytz.timezone('Asia/Thimphu')\n",
    "print(\"aq read\")\n",
    "\n",
    "#if there's any accidentally duplicated data in the sheet, we omit it here\n",
    "data.drop_duplicates(keep=False,inplace=True)"
   ]
  },
  {
   "cell_type": "code",
   "execution_count": 4,
   "id": "f2166942",
   "metadata": {},
   "outputs": [],
   "source": [
    "#here, we filter out any erroneous lat/lon values, like zeroes\n",
    "data = data.loc[(data[['latitude', 'longitude']] != 0).all(axis=1)]\n",
    "data = data[data[['latitude', 'longitude']].notnull().all(1)]"
   ]
  },
  {
   "cell_type": "code",
   "execution_count": 5,
   "id": "14b6ffa1",
   "metadata": {},
   "outputs": [],
   "source": [
    "#now, we filter out any timestamp errors\n",
    "data = data.loc[(data[['localtime']] > '2021-01-01').all(axis=1)]"
   ]
  },
  {
   "cell_type": "code",
   "execution_count": 6,
   "id": "501675b0",
   "metadata": {},
   "outputs": [],
   "source": [
    "#last, we filter out any data errors\n",
    "data = data.loc[(data['humidity'] > 0)]\n",
    "data = data.loc[(data['humidity'] < 100)]\n",
    "\n",
    "data = data.loc[(data['temperature'] > -50)]\n",
    "data = data.loc[(data['temperature'] < 80)]\n",
    "\n",
    "data = data.loc[(data['PM25'] > -0.0001)]\n",
    "data = data.loc[(data['PM25'] < 200)]\n",
    "\n",
    "data = data.loc[(data['PM1'] > -0.0001)]\n",
    "data = data.loc[(data['PM1'] < 200)]\n",
    "\n",
    "data = data.loc[(data['PM10'] > -0.0001)]\n",
    "data = data.loc[(data['PM10'] < 200)]"
   ]
  },
  {
   "cell_type": "code",
   "execution_count": 7,
   "id": "1d08c58d",
   "metadata": {},
   "outputs": [
    {
     "name": "stdout",
     "output_type": "stream",
     "text": [
      "Avg Temp -0.8205761645392594 Max Temp 21.91 Min Temp -16.74\n"
     ]
    }
   ],
   "source": [
    "#we're all set up! now let's find some parameters from the deployment in time series - let's start with temperature! \n",
    "#this will be for the month of November.\n",
    "\n",
    "#let's get some basic information about temperature from this deployment - \n",
    "#the average temperature the devices saw\n",
    "#the maximum temperatures the devices saw\n",
    "#the minimum temperature the devices sat \n",
    "tempavg = data['temperature'].mean()\n",
    "tempmax = data['temperature'].max()\n",
    "tempmin = data ['temperature'].min()\n",
    "\n",
    "#now that we have those values, let's print them out so we can take a look\n",
    "print(\"Avg Temp\",tempavg, \"Max Temp\",tempmax, \"Min Temp\",tempmin)"
   ]
  },
  {
   "cell_type": "code",
   "execution_count": null,
   "id": "168460f4",
   "metadata": {},
   "outputs": [],
   "source": [
    "#great! now let's make a plot of the total temperature during the time we have collected the data for.\n",
    "\n",
    "plt.plot(data[\"localtime\"], data[\"temperature\"], 'r')\n",
    "plt.xlabel(\"localtime\")\n",
    "plt.ylabel(\"Temperature (C)\")"
   ]
  },
  {
   "cell_type": "markdown",
   "id": "752317ad",
   "metadata": {},
   "source": [
    "Now you know how to get temperature information for the deployment. What other information can we visualize? Let's try to get some other parameters."
   ]
  },
  {
   "cell_type": "code",
   "execution_count": null,
   "id": "1be7d55e",
   "metadata": {},
   "outputs": [],
   "source": [
    "#in this block, write some code to find the average, minimum, and maximum humidity! \n",
    "#the parameter is 'humidity'\n",
    "\n",
    "humavg = '''fill this in!'''\n",
    "hummax = '''fill this in!'''\n",
    "hummin = '''fill this in!'''\n",
    "\n",
    "#what should we print? code it here!"
   ]
  },
  {
   "cell_type": "code",
   "execution_count": null,
   "id": "e21876cf",
   "metadata": {},
   "outputs": [],
   "source": [
    "#now let's make a plot of the total humidity during the time we have collected the data for.\n",
    "\n",
    "plt.plot(data[\"localtime\"], data[\"humidity\"], 'g')\n",
    "plt.xlabel(\"localtime\")\n",
    "plt.ylabel(\" Relative Humidity (%)\")"
   ]
  },
  {
   "cell_type": "code",
   "execution_count": null,
   "id": "26e05e66",
   "metadata": {},
   "outputs": [],
   "source": [
    "#in this block, write some code to visualize the average, minimum, and maximum pm2.5! \n",
    "#the parameter is 'PM25'\n",
    "\n",
    "pm25avg = '''fill this in!'''\n",
    "pm25max = '''fill this in!'''\n",
    "pm25min = '''fill this in!'''\n",
    "\n",
    "#what should we print? code it here!"
   ]
  },
  {
   "cell_type": "code",
   "execution_count": null,
   "id": "effbbb24",
   "metadata": {},
   "outputs": [],
   "source": [
    "#can you write the code to visualize this data?\n",
    "\n",
    "plt.plot('''fill this in!''', 'b')\n",
    "plt.xlabel('''fill this in!''')\n",
    "plt.ylabel(\"Pm 2.5\")"
   ]
  },
  {
   "cell_type": "code",
   "execution_count": null,
   "id": "48b8379d",
   "metadata": {},
   "outputs": [],
   "source": [
    "#for the last section of part 1, let's see where this data is coming from!\n",
    "\n",
    "#we're going to make a map. we start by setting a center point for the map to display the data\n",
    "coords = data.loc[:,['latitude','longitude']].values\n",
    "start_point=coords[0]"
   ]
  },
  {
   "cell_type": "code",
   "execution_count": null,
   "id": "b3e53d35",
   "metadata": {},
   "outputs": [],
   "source": [
    "#here, we set up the specifications for the map\n",
    "ektumap = folium.Map(location= start_point, tiles='Stamen Terrain', zoom_start=14)\n",
    "\n",
    "#this will loop through the data and show us where it's coming from\n",
    "for i,row in data.iterrows():\n",
    "    folium.CircleMarker((row.latitude,row.longitude), radius=4, weight=1, color='blue', fill_color='blue', fill_opacity=.5).add_to(ektumap)\n",
    "\n",
    "#this will display our map! \n",
    "ektumap\n",
    "\n",
    "#here we save an html version of the map - you can zoom in and out of it and interact with it!\n",
    "#uncomment and run if you want to use\n",
    "#ektumap.save('ektumap.html')"
   ]
  },
  {
   "cell_type": "markdown",
   "id": "3fae6baf",
   "metadata": {},
   "source": [
    "# # Part 2"
   ]
  },
  {
   "cell_type": "markdown",
   "id": "db255773",
   "metadata": {},
   "source": [
    "Amazing! We've gotten a bunch of information(add time series) from a static sensor in Kazakhtan. How does the data look different when we have more than one sensor, and when those sensors are moving? Let's examine some data from a different deployment, in New York City, to find out. "
   ]
  },
  {
   "cell_type": "code",
   "execution_count": 8,
   "id": "d7d8714f",
   "metadata": {},
   "outputs": [
    {
     "name": "stdout",
     "output_type": "stream",
     "text": [
      "aq1 read\n"
     ]
    }
   ],
   "source": [
    "#let's read in our new data below\n",
    "\n",
    "aq1 = \"AQ_orgfid.csv\" \n",
    "\n",
    "data = pd.read_csv(aq1, engine='python') #contents of AQ_orgfid_clean.csv\n",
    "\n",
    "#then we set the timezone so the code knows what it is, and print ourselves a message to verify we read it in correctly\n",
    "tiz = pytz.timezone('America/New_York')\n",
    "print(\"aq1 read\")\n",
    "\n",
    "#if there's any accidentally duplicated data in the sheet, we omit it here\n",
    "data.drop_duplicates(keep=False,inplace=True)"
   ]
  },
  {
   "cell_type": "code",
   "execution_count": 9,
   "id": "5f45651a",
   "metadata": {},
   "outputs": [],
   "source": [
    "#let's do the same data cleaning process as before - filter out any erroneous lat/lon values, like zeroes\n",
    "data = data.loc[(data[['lat', 'long']] != 0).all(axis=1)]\n",
    "data = data[data[['lat', 'long']].notnull().all(1)]"
   ]
  },
  {
   "cell_type": "code",
   "execution_count": 10,
   "id": "89d63fdd",
   "metadata": {},
   "outputs": [],
   "source": [
    "#once we do that, we set a center point for the map we are going to make to display the data\n",
    "coords = data.loc[:,['lat','long']].values\n",
    "start_point=coords[0]"
   ]
  },
  {
   "cell_type": "markdown",
   "id": "8c3971cc",
   "metadata": {},
   "source": [
    "We've finished the setup portion! Now, we will build our map in the next code block."
   ]
  },
  {
   "cell_type": "code",
   "execution_count": 11,
   "id": "0be2a2d7",
   "metadata": {},
   "outputs": [],
   "source": [
    "#here, we set up the specifications for the map\n",
    "Pm25map = folium.Map(location= start_point, tiles='Stamen Terrain', zoom_start=14)\n",
    "\n",
    "#run the block as-is once, then uncomment the below line and run again to see the difference \n",
    "data = data.loc[(data['pm25'] > 100)]\n",
    "\n",
    "#we will start by plotting hotspots of PM2.5 on the map\n",
    "for i,row in data.iterrows():\n",
    "    #after you run this code block once, try changing these parameters to see what happens! \n",
    "    folium.CircleMarker((row.lat,row.long), radius=4, weight=1, color='red', fill_color='red', fill_opacity=.5).add_to(Pm25map)\n",
    "\n",
    "#this will display our map! \n",
    "Pm25map\n",
    "\n",
    "#here we save an html version of the map - you can zoom in and out of it and interact with it!\n",
    "#uncomment and run if you want to use\n",
    "#Pm25map.save('Pm25map.html')\n"
   ]
  },
  {
   "cell_type": "code",
   "execution_count": null,
   "id": "0e8dbdd6",
   "metadata": {},
   "outputs": [],
   "source": []
  }
 ],
 "metadata": {
  "kernelspec": {
   "display_name": "Python 3",
   "language": "python",
   "name": "python3"
  },
  "language_info": {
   "codemirror_mode": {
    "name": "ipython",
    "version": 3
   },
   "file_extension": ".py",
   "mimetype": "text/x-python",
   "name": "python",
   "nbconvert_exporter": "python",
   "pygments_lexer": "ipython3",
   "version": "3.8.8"
  }
 },
 "nbformat": 4,
 "nbformat_minor": 5
}
